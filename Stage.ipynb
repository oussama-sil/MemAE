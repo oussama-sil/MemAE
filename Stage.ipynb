{
 "cells": [
  {
   "cell_type": "code",
   "execution_count": 1,
   "id": "177d3d73",
   "metadata": {},
   "outputs": [
    {
     "name": "stderr",
     "output_type": "stream",
     "text": [
      "2023-07-16 23:49:24.527721: I tensorflow/core/platform/cpu_feature_guard.cc:182] This TensorFlow binary is optimized to use available CPU instructions in performance-critical operations.\n",
      "To enable the following instructions: AVX2 FMA, in other operations, rebuild TensorFlow with the appropriate compiler flags.\n",
      "2023-07-16 23:49:25.187241: W tensorflow/compiler/tf2tensorrt/utils/py_utils.cc:38] TF-TRT Warning: Could not find TensorRT\n"
     ]
    }
   ],
   "source": [
    "# Importing packages \n",
    "import time \n",
    "import numpy as np\n",
    "import os\n",
    "import pickle\n",
    "os.environ['CUDA_VISIBLE_DEVICES'] = '-1' # To disable trainning in GPU\n",
    "import tensorflow as tf \n",
    "tf.get_logger().setLevel(tf._logging.ERROR)\n",
    "\n",
    "# Data Loader \n",
    "from Data.data_loader import create_train_dataset_memae  # Trainning dataset loader for MemAE model \n",
    "from Data.data_loader import create_test_dataset_memae  # Trainning dataset loader for MemAE model \n",
    "\n",
    "\n",
    "# Importing the models \n",
    "from Models.MemAE.model import AE\n",
    "from Models.MemAE.model import MemAE\n",
    "\n",
    "# Importing trainning function \n",
    "# from Models.MemAE.train import train_ae\n",
    "from Models.MemAE.train import train_memae\n",
    "\n",
    "# Loss function \n",
    "# from  Models.MemAE.loss import reconstruct_error\n",
    "# from  Models.MemAE.loss import MemAELoss\n",
    "\n",
    "# Visualization functions \n",
    "from Utils.visualization import plot_two_images,plot_result\n",
    "from Utils.plots import plot_loss_evol,plot_metric_evol"
   ]
  },
  {
   "cell_type": "code",
   "execution_count": 2,
   "id": "a4fae92c",
   "metadata": {},
   "outputs": [
    {
     "name": "stderr",
     "output_type": "stream",
     "text": [
      "2023-07-16 23:49:26.838672: E tensorflow/compiler/xla/stream_executor/cuda/cuda_driver.cc:266] failed call to cuInit: CUDA_ERROR_UNKNOWN: unknown error\n",
      "2023-07-16 23:49:26.838794: I tensorflow/compiler/xla/stream_executor/cuda/cuda_diagnostics.cc:168] retrieving CUDA diagnostic information for host: OSIL\n",
      "2023-07-16 23:49:26.838813: I tensorflow/compiler/xla/stream_executor/cuda/cuda_diagnostics.cc:175] hostname: OSIL\n",
      "2023-07-16 23:49:26.839417: I tensorflow/compiler/xla/stream_executor/cuda/cuda_diagnostics.cc:199] libcuda reported version is: 535.54.3\n",
      "2023-07-16 23:49:26.839576: I tensorflow/compiler/xla/stream_executor/cuda/cuda_diagnostics.cc:203] kernel reported version is: 535.54.3\n",
      "2023-07-16 23:49:26.839596: I tensorflow/compiler/xla/stream_executor/cuda/cuda_diagnostics.cc:309] kernel version seems to match DSO: 535.54.3\n"
     ]
    }
   ],
   "source": [
    "# Tensorflow config \n",
    "tf.config.list_physical_devices()\n",
    "tf.config.threading.set_inter_op_parallelism_threads(12) \n",
    "tf.config.threading.set_intra_op_parallelism_threads(12)\n",
    "tf.config.set_soft_device_placement(False)"
   ]
  },
  {
   "cell_type": "markdown",
   "id": "a07a77a9",
   "metadata": {},
   "source": [
    "### Loading data"
   ]
  },
  {
   "cell_type": "code",
   "execution_count": 3,
   "id": "1df0009f",
   "metadata": {},
   "outputs": [],
   "source": [
    "# Dimensions of data \n",
    "H = 256\n",
    "W = 256\n",
    "nb_frames = 16"
   ]
  },
  {
   "cell_type": "code",
   "execution_count": 4,
   "id": "c4096746",
   "metadata": {},
   "outputs": [
    {
     "name": "stdout",
     "output_type": "stream",
     "text": [
      "\n",
      "<<<  Loading trainning dataset >>>\n",
      "path : ./Data/train_(154, 16, 256, 256, 1).npy\n",
      "Dataset alreardy prepared, loading it\n",
      "Data loaded , shape (154, 16, 256, 256, 1), size 1232.0 MB \n",
      "\n",
      "\n",
      "<<<  Loading testing dataset >>>\n",
      "path data : ./Data/test_data_(122, 16, 256, 256, 1).npy\n",
      "path data gt : ./Data/test_data_gt_(122, 16, 256, 256, 1).npy\n",
      "path data labels: ./Data/test_data_labels_(122, 16, 256, 256, 1).npy\n",
      "Dataset alreardy prepared, loading it\n",
      "Data loaded , shape  data (122, 16, 256, 256, 1), gt data (122, 16, 256, 256, 1), labels (122, 16) size 122.02978515625 MB \n",
      "\n"
     ]
    }
   ],
   "source": [
    "#? Loading trainning dataset for MemAE model \n",
    "data_train = create_train_dataset_memae(H,W,nb_frames,load_ped2 = True ,load_ped1=False,shuffle=False,m=154,save=True,save_path='./Data',path_ped2='./Data/UCSDped2',path_ped1='./Data/UCSDped1')\n",
    "#? Loading the test data \n",
    "data_test,data_test_gt,data_test_labels = create_test_dataset_memae(H,W,nb_frames,load_ped2 = True ,load_ped1=False,save=True,save_path='./Data',path_ped2='./Data/UCSDped2',path_ped1='./Data/UCSDped1')\n"
   ]
  },
  {
   "cell_type": "markdown",
   "id": "16848249",
   "metadata": {},
   "source": [
    "## Training the model  "
   ]
  },
  {
   "cell_type": "markdown",
   "id": "057788a7",
   "metadata": {},
   "source": [
    "### Model and training parameters "
   ]
  },
  {
   "cell_type": "code",
   "execution_count": 5,
   "id": "24f04f70",
   "metadata": {},
   "outputs": [],
   "source": [
    "learning_rate = 0.0002 #0.0001 gave good results \n",
    "nb_epochs = 20\n",
    "mem_dim = 2000\n",
    "entropy_loss = 0.02 # 0.002 \n",
    "shrink_thresh = 0.0005 #0.0025  0.001 0.0015 0.0005 0.0004\n",
    "batch_size = 5"
   ]
  },
  {
   "cell_type": "markdown",
   "id": "760796a8",
   "metadata": {},
   "source": [
    "### History params "
   ]
  },
  {
   "cell_type": "code",
   "execution_count": 6,
   "id": "2f232639",
   "metadata": {},
   "outputs": [],
   "source": [
    "#? History params \n",
    "history_params = {\n",
    "        \"dir\" : \"./Training_History/MemAE\", # Folder in which save the data  \n",
    "        \"train_params\" : {\n",
    "            \"train_data_shape\": data_train.shape,\n",
    "            \"test_data_shape\" : data_test.shape,\n",
    "            \"learning_rate\" : learning_rate, \n",
    "            \"nb_epochs\" : nb_epochs,\n",
    "            \"mem_dim\" :mem_dim,\n",
    "            \"entropy_loss\" : entropy_loss, \n",
    "            \"shrink_thresh\" :shrink_thresh,\n",
    "            \"batch_size\":batch_size\n",
    "        },\n",
    "        \"nb_epochs_checkpoint\" : 10,  # Save each nb_epochs_checkpoint epoch \n",
    "    }"
   ]
  },
  {
   "cell_type": "code",
   "execution_count": 7,
   "id": "3396c733",
   "metadata": {},
   "outputs": [
    {
     "name": "stdout",
     "output_type": "stream",
     "text": [
      "/bin/bash: /home/osil/miniconda3/lib/libtinfo.so.6: no version information available (required by /bin/bash)\n",
      "/bin/bash: /home/osil/miniconda3/lib/libtinfo.so.6: no version information available (required by /bin/bash)\n"
     ]
    }
   ],
   "source": [
    "#? Deleting older records \n",
    "!rm -r \"./Training_History\"\n",
    "!mkdir \"./Training_History\""
   ]
  },
  {
   "cell_type": "markdown",
   "id": "46607250",
   "metadata": {},
   "source": [
    "### Optimizer "
   ]
  },
  {
   "cell_type": "code",
   "execution_count": 8,
   "id": "b0e7fd1d",
   "metadata": {},
   "outputs": [],
   "source": [
    "# Creation of a new optimizer \n",
    "optimizer = tf.keras.optimizers.Adam(learning_rate=learning_rate)\n",
    "\n",
    "# Loading an old optimizer \n",
    "# with open(\"./Trainning_History/MemAE/Weights/optimizer_epoch_2.pkl\", \"rb\") as file:\n",
    "#     optimizer_config = pickle.load(file)\n",
    "#     optimizer =tf.keras.optimizers.Adam().from_config(optimizer_config)\n"
   ]
  },
  {
   "cell_type": "markdown",
   "id": "70acbdfa",
   "metadata": {},
   "source": [
    "### Model "
   ]
  },
  {
   "cell_type": "code",
   "execution_count": 9,
   "id": "85088aea",
   "metadata": {},
   "outputs": [
    {
     "name": "stdout",
     "output_type": "stream",
     "text": [
      "(None, 16, 256, 256, 1)\n",
      "(None, 2, 16, 16, 1)\n",
      "Model: \"MemAE\"\n",
      "_________________________________________________________________\n",
      " Layer (type)                Output Shape              Param #   \n",
      "=================================================================\n",
      " Encoder (Encoder)           multiple                  2992256   \n",
      "                                                                 \n",
      " Memory (Memory)             multiple                  512000    \n",
      "                                                                 \n",
      " Decoder (Decoder)           multiple                  2990977   \n",
      "                                                                 \n",
      "=================================================================\n",
      "Total params: 6,495,233\n",
      "Trainable params: 6,492,801\n",
      "Non-trainable params: 2,432\n",
      "_________________________________________________________________\n"
     ]
    },
    {
     "name": "stderr",
     "output_type": "stream",
     "text": [
      "2023-07-16 23:49:53.420510: I tensorflow/core/common_runtime/executor.cc:1197] [/device:CPU:0] (DEBUG INFO) Executor start aborting (this does not indicate an error and you can ignore this message): INVALID_ARGUMENT: You must feed a value for placeholder tensor 'Placeholder' with dtype float and shape [?,2,16,16,256]\n",
      "\t [[{{node Placeholder}}]]\n"
     ]
    }
   ],
   "source": [
    "memae_model = MemAE((None,nb_frames,H,W,1),nb_items=mem_dim,\n",
    "                        delta=shrink_thresh)\n",
    "memae_model.build((None,nb_frames,H,W,1))\n",
    "memae_model.summary()"
   ]
  },
  {
   "cell_type": "markdown",
   "id": "e41afd2e",
   "metadata": {},
   "source": [
    "## Training the model \n",
    "* To check the memory usage *top -o %MEM*"
   ]
  },
  {
   "cell_type": "code",
   "execution_count": null,
   "id": "c5acf964",
   "metadata": {},
   "outputs": [
    {
     "name": "stdout",
     "output_type": "stream",
     "text": [
      "\n",
      "<<<  Trainning   >>>\n",
      "Shape of data : (154, 16, 256, 256, 1)\n",
      "Size of a batch : 5   Number of batchs = 30\n",
      "Number of epochs : 20\n",
      "\n",
      "Start of epoch 1 \n"
     ]
    },
    {
     "name": "stderr",
     "output_type": "stream",
     "text": [
      "2023-07-16 23:49:56.390484: W tensorflow/tsl/framework/cpu_allocator_impl.cc:83] Allocation of 503316480 exceeds 10% of free system memory.\n",
      "2023-07-16 23:49:56.709572: W tensorflow/tsl/framework/cpu_allocator_impl.cc:83] Allocation of 503316480 exceeds 10% of free system memory.\n",
      "2023-07-16 23:49:56.984655: W tensorflow/tsl/framework/cpu_allocator_impl.cc:83] Allocation of 584064000 exceeds 10% of free system memory.\n",
      "2023-07-16 23:49:59.354634: W tensorflow/tsl/framework/cpu_allocator_impl.cc:83] Allocation of 503316480 exceeds 10% of free system memory.\n",
      "2023-07-16 23:49:59.355099: W tensorflow/tsl/framework/cpu_allocator_impl.cc:83] Allocation of 339738624 exceeds 10% of free system memory.\n"
     ]
    },
    {
     "name": "stdout",
     "output_type": "stream",
     "text": [
      "Btach 0/30  loss= 0.23030829429626465\n",
      "Btach 1/30  loss= 0.23261098563671112\n",
      "Btach 2/30  loss= 0.22986063361167908\n",
      "Btach 3/30  loss= 0.22813355922698975\n",
      "Btach 4/30  loss= 0.22686704993247986\n",
      "Btach 5/30  loss= 0.22686314582824707\n",
      "Btach 6/30  loss= 0.2268572300672531\n",
      "Btach 7/30  loss= 0.22580230236053467\n"
     ]
    }
   ],
   "source": [
    "train_losses,val_losses,eval_metrics = train_memae(memae_model,data_train,optimizer,\n",
    "                validation_data=data_test[5:10,:,:,:,:],\n",
    "                evaluation_metric=None,epochs=nb_epochs,batch_size=batch_size,\n",
    "                record_history=True,history_params=history_params)"
   ]
  },
  {
   "cell_type": "code",
   "execution_count": null,
   "id": "21e11ad7",
   "metadata": {},
   "outputs": [],
   "source": [
    "# Saving the weights \n",
    "memae_model.save_weights(\"./Models/memae_model_weights_(256,256).h5\")\n"
   ]
  },
  {
   "cell_type": "code",
   "execution_count": null,
   "id": "c103174c",
   "metadata": {},
   "outputs": [],
   "source": [
    "# Loading weights \n",
    "memae_model.load_weights(\"./Models/memae_model_weights_(256,256).h5\")"
   ]
  },
  {
   "cell_type": "markdown",
   "id": "9c1f8e99",
   "metadata": {},
   "source": [
    "### Plotting the results"
   ]
  },
  {
   "cell_type": "code",
   "execution_count": null,
   "id": "e4cfaf27",
   "metadata": {},
   "outputs": [],
   "source": [
    "plot_loss_evol(train_losses,val_losses)\n"
   ]
  },
  {
   "cell_type": "markdown",
   "id": "2d7642da",
   "metadata": {},
   "source": [
    "## Testing  "
   ]
  },
  {
   "cell_type": "code",
   "execution_count": null,
   "id": "178aa97b",
   "metadata": {},
   "outputs": [],
   "source": [
    "# Computing a test image\n",
    "in_img = data_test[8:9,:,:,:,:]\n",
    "out_img = memae_model(in_img)[0]\n",
    "rec_error = (in_img-out_img)**2\n",
    "anomaly_mask = np.where(rec_error.numpy() > 0.05 , 1, 0)"
   ]
  },
  {
   "cell_type": "code",
   "execution_count": null,
   "id": "d96d2a79",
   "metadata": {},
   "outputs": [],
   "source": [
    "plot_result(in_img[0,-1,:,:,:],out_img[0,-1,:,:,:],rec_error[0,-1,:,:,:],anomaly_mask[0,-1,:,:,:],save=True,filename='/media/osil/Secondary/_Stage_CERIST/Documentation_Paper/images/MemAE/ae_results.png')\n",
    "plot_two_images(in_img[0,2,:,:,0],out_img[0,2,:,:,0])"
   ]
  },
  {
   "cell_type": "code",
   "execution_count": null,
   "id": "cf649981",
   "metadata": {},
   "outputs": [],
   "source": []
  }
 ],
 "metadata": {
  "kernelspec": {
   "display_name": "Python [conda env:root] *",
   "language": "python",
   "name": "conda-root-py"
  },
  "language_info": {
   "codemirror_mode": {
    "name": "ipython",
    "version": 3
   },
   "file_extension": ".py",
   "mimetype": "text/x-python",
   "name": "python",
   "nbconvert_exporter": "python",
   "pygments_lexer": "ipython3",
   "version": "3.11.4"
  }
 },
 "nbformat": 4,
 "nbformat_minor": 5
}
